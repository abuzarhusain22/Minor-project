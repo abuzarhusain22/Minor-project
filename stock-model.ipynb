{
 "cells": [
  {
   "cell_type": "markdown",
   "id": "fad5986d",
   "metadata": {},
   "source": [
    "# This is the minor project on prediction of stock prices \n"
   ]
  },
  {
   "cell_type": "code",
   "execution_count": 2,
   "id": "6d866f68",
   "metadata": {},
   "outputs": [],
   "source": [
    "#first we will import all necessary libraries\n",
    "import numpy as np\n",
    "import pandas as pd\n",
    "import matplotlib.pyplot as plt\n",
    "from keras.models import Sequential, load_model\n",
    "from keras.layers import Dense, LSTM, Dropout"
   ]
  },
  {
   "cell_type": "code",
   "execution_count": 3,
   "id": "5901f5fc",
   "metadata": {},
   "outputs": [],
   "source": [
    "#now we will make a dataframe and read the data\n",
    "df = pd.read_csv('data_stock.csv')"
   ]
  },
  {
   "cell_type": "code",
   "execution_count": 4,
   "id": "466ba21f",
   "metadata": {},
   "outputs": [
    {
     "name": "stdout",
     "output_type": "stream",
     "text": [
      "<class 'pandas.core.frame.DataFrame'>\n",
      "RangeIndex: 1009 entries, 0 to 1008\n",
      "Data columns (total 7 columns):\n",
      " #   Column     Non-Null Count  Dtype  \n",
      "---  ------     --------------  -----  \n",
      " 0   Date       1009 non-null   object \n",
      " 1   Open       1009 non-null   float64\n",
      " 2   High       1009 non-null   float64\n",
      " 3   Low        1009 non-null   float64\n",
      " 4   Close      1009 non-null   float64\n",
      " 5   Adj Close  1009 non-null   float64\n",
      " 6   Volume     1009 non-null   int64  \n",
      "dtypes: float64(5), int64(1), object(1)\n",
      "memory usage: 55.3+ KB\n"
     ]
    }
   ],
   "source": [
    "#let's check the info of our data\n",
    "df.info()"
   ]
  },
  {
   "cell_type": "markdown",
   "id": "d523ec65",
   "metadata": {},
   "source": [
    "To make it as simple we will use only 'open'price\n"
   ]
  },
  {
   "cell_type": "code",
   "execution_count": 5,
   "id": "ad45c27b",
   "metadata": {},
   "outputs": [],
   "source": [
    "df = df['Open'].values\n",
    "df = df.reshape(-1,1)"
   ]
  },
  {
   "cell_type": "markdown",
   "id": "e1de4734",
   "metadata": {},
   "source": [
    "After extracting one column our dataset will be"
   ]
  },
  {
   "cell_type": "code",
   "execution_count": 6,
   "id": "aebf77be",
   "metadata": {},
   "outputs": [
    {
     "data": {
      "text/plain": [
       "(1009, 1)"
      ]
     },
     "execution_count": 6,
     "metadata": {},
     "output_type": "execute_result"
    }
   ],
   "source": [
    "df.shape"
   ]
  },
  {
   "cell_type": "markdown",
   "id": "5b6c6b80",
   "metadata": {},
   "source": [
    " Now we will split the data into two parts i.e. training and testing sets."
   ]
  },
  {
   "cell_type": "code",
   "execution_count": 7,
   "id": "01fc1ef6",
   "metadata": {},
   "outputs": [
    {
     "name": "stdout",
     "output_type": "stream",
     "text": [
      "(706, 1)\n",
      "(303, 1)\n"
     ]
    }
   ],
   "source": [
    "training_data = np.array(df[:int(df.shape[0]*0.7)])\n",
    "testing_data = np.array(df[int(df.shape[0]*0.7):])\n",
    "print(training_data.shape)\n",
    "print(testing_data.shape)"
   ]
  },
  {
   "cell_type": "markdown",
   "id": "9b6c1b9e",
   "metadata": {},
   "source": [
    "Now we will use MinMax to scale our data"
   ]
  },
  {
   "cell_type": "code",
   "execution_count": 8,
   "id": "c4e65e9c",
   "metadata": {},
   "outputs": [
    {
     "name": "stdout",
     "output_type": "stream",
     "text": [
      "[[0.08405677]\n",
      " [0.04125007]\n",
      " [0.09776684]\n",
      " [0.09926358]\n",
      " [0.05965997]\n",
      " [0.05454111]\n",
      " [0.06995753]\n",
      " [0.07947675]\n",
      " [0.10809436]\n",
      " [0.13413763]]\n",
      "[[0.7679459 ]\n",
      " [0.73316174]\n",
      " [0.75199072]\n",
      " [0.75633121]\n",
      " [0.76680837]\n",
      " [0.77357365]\n",
      " [0.80135308]]\n"
     ]
    }
   ],
   "source": [
    "from sklearn.preprocessing import MinMaxScaler\n",
    "sc = MinMaxScaler(feature_range=(0,1))\n",
    "training_data = sc.fit_transform(training_data)\n",
    "testing_data = sc.transform(testing_data)\n",
    "print(training_data[:10]) \n",
    "print(testing_data[:7])"
   ]
  },
  {
   "cell_type": "markdown",
   "id": "e598dde4",
   "metadata": {},
   "source": [
    "now we will create a function to to analyze and create the set of data"
   ]
  },
  {
   "cell_type": "code",
   "execution_count": 9,
   "id": "ea4f7e21",
   "metadata": {},
   "outputs": [],
   "source": [
    "def data(df):\n",
    "    x = []\n",
    "    y = []\n",
    "    for i in range(50, df.shape[0]):\n",
    "        x.append(df[i-50:i, 0])\n",
    "        y.append(df[i, 0])\n",
    "    x = np.array(x)\n",
    "    y = np.array(y)\n",
    "    return x,y \n",
    "\n"
   ]
  },
  {
   "cell_type": "markdown",
   "id": "a91bbe61",
   "metadata": {},
   "source": [
    "In this we have append for x the last fifty prices and for y we will append next price and then we have converted it in array"
   ]
  },
  {
   "cell_type": "markdown",
   "id": "854343be",
   "metadata": {},
   "source": [
    "Now, we will call our function to create both the datas."
   ]
  },
  {
   "cell_type": "code",
   "execution_count": 10,
   "id": "37dddc08",
   "metadata": {},
   "outputs": [],
   "source": [
    "training_x, training_y = data(training_data)\n",
    "testing_x, testing_y = data(testing_data)"
   ]
  },
  {
   "cell_type": "markdown",
   "id": "817e492e",
   "metadata": {},
   "source": [
    "Now, we will create our LSTM model"
   ]
  },
  {
   "cell_type": "code",
   "execution_count": 11,
   "id": "f8d480dd",
   "metadata": {},
   "outputs": [],
   "source": [
    "model = Sequential()\n",
    "model.add(LSTM(units=111, return_sequences=True, input_shape=(training_x.shape[1], 1)))\n",
    "model.add(Dropout(0.3))\n",
    "model.add(LSTM(units=96, return_sequences=True))\n",
    "model.add(Dropout(0.3))\n",
    "model.add(LSTM(units=96, return_sequences=True))\n",
    "model.add(Dropout(0.3))\n",
    "model.add(LSTM(units=96))\n",
    "model.add(Dropout(0.3))\n",
    "model.add(Dense(units=1))"
   ]
  },
  {
   "cell_type": "markdown",
   "id": "8f4a3817",
   "metadata": {},
   "source": [
    "we have taken 111 units in the output with the sequencial and then returned it to make our model layer with 3-d input.\n",
    "Then we have shaped our set of data."
   ]
  },
  {
   "cell_type": "markdown",
   "id": "f523f01e",
   "metadata": {},
   "source": [
    "dropout is 0.3 as to dropout 30% of layers and took dense layer 1 to get a single output."
   ]
  },
  {
   "cell_type": "code",
   "execution_count": 12,
   "id": "fb3ffe9e",
   "metadata": {},
   "outputs": [],
   "source": [
    "training_x = np.reshape(training_x, (training_x.shape[0], training_x.shape[1], 1))\n",
    "testing_x = np.reshape(testing_x, (testing_x.shape[0], testing_x.shape[1], 1))"
   ]
  },
  {
   "cell_type": "markdown",
   "id": "d6254b8d",
   "metadata": {},
   "source": [
    "above we have reshaped it as it is expecting 3 dimensions"
   ]
  },
  {
   "cell_type": "markdown",
   "id": "80ac4607",
   "metadata": {},
   "source": [
    "as it is regression problem we have used mean square error and adam to update network weights"
   ]
  },
  {
   "cell_type": "code",
   "execution_count": 13,
   "id": "63b3ff2e",
   "metadata": {},
   "outputs": [],
   "source": [
    "model.compile(loss='mean_squared_error', optimizer='adam')\n"
   ]
  },
  {
   "cell_type": "markdown",
   "id": "57e6d3f4",
   "metadata": {},
   "source": [
    "At last we will save our model "
   ]
  },
  {
   "cell_type": "code",
   "execution_count": 14,
   "id": "fcb08702",
   "metadata": {},
   "outputs": [
    {
     "name": "stdout",
     "output_type": "stream",
     "text": [
      "Epoch 1/50\n",
      "21/21 [==============================] - 20s 210ms/step - loss: 0.0486\n",
      "Epoch 2/50\n",
      "21/21 [==============================] - 4s 184ms/step - loss: 0.0125\n",
      "Epoch 3/50\n",
      "21/21 [==============================] - 4s 182ms/step - loss: 0.0084\n",
      "Epoch 4/50\n",
      "21/21 [==============================] - 4s 182ms/step - loss: 0.0076\n",
      "Epoch 5/50\n",
      "21/21 [==============================] - 4s 181ms/step - loss: 0.0081\n",
      "Epoch 6/50\n",
      "21/21 [==============================] - 4s 185ms/step - loss: 0.0076\n",
      "Epoch 7/50\n",
      "21/21 [==============================] - 4s 182ms/step - loss: 0.0075\n",
      "Epoch 8/50\n",
      "21/21 [==============================] - 4s 183ms/step - loss: 0.0072\n",
      "Epoch 9/50\n",
      "21/21 [==============================] - 4s 183ms/step - loss: 0.0068\n",
      "Epoch 10/50\n",
      "21/21 [==============================] - 4s 180ms/step - loss: 0.0068\n",
      "Epoch 11/50\n",
      "21/21 [==============================] - 4s 182ms/step - loss: 0.0072\n",
      "Epoch 12/50\n",
      "21/21 [==============================] - 4s 181ms/step - loss: 0.0071\n",
      "Epoch 13/50\n",
      "21/21 [==============================] - 4s 183ms/step - loss: 0.0063\n",
      "Epoch 14/50\n",
      "21/21 [==============================] - 4s 181ms/step - loss: 0.0058\n",
      "Epoch 15/50\n",
      "21/21 [==============================] - 4s 184ms/step - loss: 0.0064\n",
      "Epoch 16/50\n",
      "21/21 [==============================] - 4s 188ms/step - loss: 0.0053\n",
      "Epoch 17/50\n",
      "21/21 [==============================] - 4s 184ms/step - loss: 0.0056\n",
      "Epoch 18/50\n",
      "21/21 [==============================] - 4s 182ms/step - loss: 0.0060\n",
      "Epoch 19/50\n",
      "21/21 [==============================] - 4s 184ms/step - loss: 0.0059\n",
      "Epoch 20/50\n",
      "21/21 [==============================] - 4s 183ms/step - loss: 0.0066\n",
      "Epoch 21/50\n",
      "21/21 [==============================] - 4s 198ms/step - loss: 0.0062\n",
      "Epoch 22/50\n",
      "21/21 [==============================] - 4s 184ms/step - loss: 0.0059\n",
      "Epoch 23/50\n",
      "21/21 [==============================] - 4s 184ms/step - loss: 0.0051\n",
      "Epoch 24/50\n",
      "21/21 [==============================] - 4s 183ms/step - loss: 0.0057\n",
      "Epoch 25/50\n",
      "21/21 [==============================] - 4s 184ms/step - loss: 0.0049\n",
      "Epoch 26/50\n",
      "21/21 [==============================] - 4s 183ms/step - loss: 0.0048\n",
      "Epoch 27/50\n",
      "21/21 [==============================] - 4s 184ms/step - loss: 0.0048\n",
      "Epoch 28/50\n",
      "21/21 [==============================] - 4s 184ms/step - loss: 0.0046\n",
      "Epoch 29/50\n",
      "21/21 [==============================] - 4s 183ms/step - loss: 0.0049\n",
      "Epoch 30/50\n",
      "21/21 [==============================] - 4s 183ms/step - loss: 0.0046\n",
      "Epoch 31/50\n",
      "21/21 [==============================] - 4s 183ms/step - loss: 0.0049\n",
      "Epoch 32/50\n",
      "21/21 [==============================] - 4s 183ms/step - loss: 0.0047\n",
      "Epoch 33/50\n",
      "21/21 [==============================] - 4s 183ms/step - loss: 0.0048\n",
      "Epoch 34/50\n",
      "21/21 [==============================] - 4s 182ms/step - loss: 0.0043\n",
      "Epoch 35/50\n",
      "21/21 [==============================] - 4s 184ms/step - loss: 0.0040\n",
      "Epoch 36/50\n",
      "21/21 [==============================] - 4s 184ms/step - loss: 0.0039\n",
      "Epoch 37/50\n",
      "21/21 [==============================] - 4s 184ms/step - loss: 0.0038\n",
      "Epoch 38/50\n",
      "21/21 [==============================] - 4s 184ms/step - loss: 0.0039\n",
      "Epoch 39/50\n",
      "21/21 [==============================] - 4s 184ms/step - loss: 0.0037\n",
      "Epoch 40/50\n",
      "21/21 [==============================] - 4s 183ms/step - loss: 0.0033\n",
      "Epoch 41/50\n",
      "21/21 [==============================] - 4s 186ms/step - loss: 0.0040\n",
      "Epoch 42/50\n",
      "21/21 [==============================] - 4s 183ms/step - loss: 0.0037\n",
      "Epoch 43/50\n",
      "21/21 [==============================] - 4s 184ms/step - loss: 0.0036\n",
      "Epoch 44/50\n",
      "21/21 [==============================] - 4s 183ms/step - loss: 0.0032\n",
      "Epoch 45/50\n",
      "21/21 [==============================] - 4s 184ms/step - loss: 0.0036\n",
      "Epoch 46/50\n",
      "21/21 [==============================] - 4s 192ms/step - loss: 0.0034\n",
      "Epoch 47/50\n",
      "21/21 [==============================] - 4s 204ms/step - loss: 0.0039\n",
      "Epoch 48/50\n",
      "21/21 [==============================] - 4s 198ms/step - loss: 0.0031\n",
      "Epoch 49/50\n",
      "21/21 [==============================] - 4s 190ms/step - loss: 0.0036\n",
      "Epoch 50/50\n",
      "21/21 [==============================] - 4s 186ms/step - loss: 0.0050\n"
     ]
    }
   ],
   "source": [
    "model.fit(training_x, training_y, epochs=50, batch_size=32)\n",
    "model.save('stock-model.h5')"
   ]
  },
  {
   "cell_type": "markdown",
   "id": "83976366",
   "metadata": {},
   "source": [
    "# now we will load our model and will import from keras to load"
   ]
  },
  {
   "cell_type": "code",
   "execution_count": 15,
   "id": "13222fbc",
   "metadata": {},
   "outputs": [],
   "source": [
    "from keras.models import load_model\n",
    "\n"
   ]
  },
  {
   "cell_type": "code",
   "execution_count": 16,
   "id": "b66d09a2",
   "metadata": {},
   "outputs": [],
   "source": [
    "model = load_model('stock-model.h5')\n"
   ]
  },
  {
   "cell_type": "code",
   "execution_count": 18,
   "id": "6bc3082c",
   "metadata": {},
   "outputs": [
    {
     "name": "stdout",
     "output_type": "stream",
     "text": [
      "8/8 [==============================] - 1s 93ms/step\n"
     ]
    },
    {
     "data": {
      "text/plain": [
       "<matplotlib.legend.Legend at 0x1c256d78f40>"
      ]
     },
     "execution_count": 18,
     "metadata": {},
     "output_type": "execute_result"
    },
    {
     "data": {
      "image/png": "[encoded data removed]",
      "text/plain": [
       "<Figure size 1152x576 with 1 Axes>"
      ]
     },
     "metadata": {
      "needs_background": "light"
     },
     "output_type": "display_data"
    }
   ],
   "source": [
    "my_pred = model.predict(testing_x)\n",
    "my_pred = sc.inverse_transform(my_pred)\n",
    "ytest = sc.inverse_transform(testing_y.reshape(-1, 1))\n",
    "\n",
    "fig, stock = plt.subplots(figsize=(16,8))\n",
    "stock.set_facecolor('white')\n",
    "stock.plot(ytest, color='red', label='Given stock price')\n",
    "plt.plot(my_pred, color='blue', label='Predicted stock price')\n",
    "plt.title('Stock graph for given data')\n",
    "plt.xlabel('Time')\n",
    "plt.ylabel('Price')\n",
    "plt.legend()"
   ]
  },
  {
   "cell_type": "markdown",
   "id": "c1eee240",
   "metadata": {},
   "source": [
    "# This is the end of our project"
   ]
  }
 ],
 "metadata": {
  "kernelspec": {
   "display_name": "Python 3 (ipykernel)",
   "language": "python",
   "name": "python3"
  },
  "language_info": {
   "codemirror_mode": {
    "name": "ipython",
    "version": 3
   },
   "file_extension": ".py",
   "mimetype": "text/x-python",
   "name": "python",
   "nbconvert_exporter": "python",
   "pygments_lexer": "ipython3",
   "version": "3.9.7"
  }
 },
 "nbformat": 4,
 "nbformat_minor": 5
}
